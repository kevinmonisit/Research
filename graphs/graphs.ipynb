{
 "cells": [
  {
   "cell_type": "code",
   "execution_count": 4,
   "metadata": {
    "_cell_guid": "f5fffcef-78b7-4373-a2b9-994fe2415588",
    "_uuid": "1148045d-4b3f-40aa-b92f-d73a19093ad4"
   },
   "outputs": [
    {
     "ename": "ModuleNotFoundError",
     "evalue": "No module named 'numpy'",
     "output_type": "error",
     "traceback": [
      "\u001B[0;31m---------------------------------------------------------------------------\u001B[0m",
      "\u001B[0;31mModuleNotFoundError\u001B[0m                       Traceback (most recent call last)",
      "\u001B[0;32m<ipython-input-4-6e19c5710cc7>\u001B[0m in \u001B[0;36m<module>\u001B[0;34m\u001B[0m\n\u001B[0;32m----> 1\u001B[0;31m \u001B[0;32mimport\u001B[0m \u001B[0mnumpy\u001B[0m \u001B[0;32mas\u001B[0m \u001B[0mnp\u001B[0m\u001B[0;34m\u001B[0m\u001B[0;34m\u001B[0m\u001B[0m\n\u001B[0m\u001B[1;32m      2\u001B[0m \u001B[0;32mimport\u001B[0m \u001B[0mpandas\u001B[0m \u001B[0;32mas\u001B[0m \u001B[0mpd\u001B[0m\u001B[0;34m\u001B[0m\u001B[0;34m\u001B[0m\u001B[0m\n\u001B[1;32m      3\u001B[0m \u001B[0;32mimport\u001B[0m \u001B[0mmatplotlib\u001B[0m\u001B[0;34m.\u001B[0m\u001B[0mpyplot\u001B[0m \u001B[0;32mas\u001B[0m \u001B[0mplt\u001B[0m\u001B[0;34m\u001B[0m\u001B[0;34m\u001B[0m\u001B[0m\n\u001B[1;32m      4\u001B[0m \u001B[0;32mimport\u001B[0m \u001B[0mmatplotlib\u001B[0m\u001B[0;34m\u001B[0m\u001B[0;34m\u001B[0m\u001B[0m\n\u001B[1;32m      5\u001B[0m \u001B[0;32mimport\u001B[0m \u001B[0mseaborn\u001B[0m \u001B[0;32mas\u001B[0m \u001B[0msns\u001B[0m\u001B[0;34m\u001B[0m\u001B[0;34m\u001B[0m\u001B[0m\n",
      "\u001B[0;31mModuleNotFoundError\u001B[0m: No module named 'numpy'"
     ]
    }
   ],
   "source": [
    "import numpy as np\n",
    "import pandas as pd \n",
    "import matplotlib.pyplot as plt\n",
    "import matplotlib\n",
    "import seaborn as sns\n",
    "import preprocess as pr\n",
    "\n",
    "dataForGraph = pd.read_csv('../input/dataproj/High School East Student Data - Sheet1.csv')\n",
    "pr.preprocess_student_data(dataForGraph)"
   ]
  },
  {
   "cell_type": "markdown",
   "metadata": {},
   "source": [
    "## Graping the Data"
   ]
  },
  {
   "cell_type": "code",
   "execution_count": 5,
   "metadata": {},
   "outputs": [
    {
     "ename": "NameError",
     "evalue": "name 'plt' is not defined",
     "output_type": "error",
     "traceback": [
      "\u001B[0;31m---------------------------------------------------------------------------\u001B[0m",
      "\u001B[0;31mNameError\u001B[0m                                 Traceback (most recent call last)",
      "\u001B[0;32m<ipython-input-5-121100405669>\u001B[0m in \u001B[0;36m<module>\u001B[0;34m\u001B[0m\n\u001B[0;32m----> 1\u001B[0;31m \u001B[0mfig\u001B[0m\u001B[0;34m,\u001B[0m \u001B[0;34m(\u001B[0m\u001B[0max1\u001B[0m\u001B[0;34m,\u001B[0m \u001B[0max2\u001B[0m\u001B[0;34m)\u001B[0m \u001B[0;34m=\u001B[0m \u001B[0mplt\u001B[0m\u001B[0;34m.\u001B[0m\u001B[0msubplots\u001B[0m\u001B[0;34m(\u001B[0m\u001B[0;36m1\u001B[0m\u001B[0;34m,\u001B[0m \u001B[0;36m2\u001B[0m\u001B[0;34m,\u001B[0m \u001B[0mfigsize\u001B[0m\u001B[0;34m=\u001B[0m\u001B[0;34m(\u001B[0m\u001B[0;36m15\u001B[0m\u001B[0;34m,\u001B[0m\u001B[0;36m7\u001B[0m\u001B[0;34m)\u001B[0m\u001B[0;34m)\u001B[0m\u001B[0;34m\u001B[0m\u001B[0;34m\u001B[0m\u001B[0m\n\u001B[0m\u001B[1;32m      2\u001B[0m \u001B[0;31m#plt.figure(figsize=(2,10))\u001B[0m\u001B[0;34m\u001B[0m\u001B[0;34m\u001B[0m\u001B[0;34m\u001B[0m\u001B[0m\n\u001B[1;32m      3\u001B[0m \u001B[0;34m\u001B[0m\u001B[0m\n\u001B[1;32m      4\u001B[0m \u001B[0msns\u001B[0m\u001B[0;34m.\u001B[0m\u001B[0mset_style\u001B[0m\u001B[0;34m(\u001B[0m\u001B[0;34m\"ticks\"\u001B[0m\u001B[0;34m)\u001B[0m\u001B[0;34m\u001B[0m\u001B[0;34m\u001B[0m\u001B[0m\n\u001B[1;32m      5\u001B[0m \u001B[0;34m\u001B[0m\u001B[0m\n",
      "\u001B[0;31mNameError\u001B[0m: name 'plt' is not defined"
     ]
    }
   ],
   "source": [
    "fig, (ax1, ax2) = plt.subplots(1, 2, figsize=(15,7))\n",
    "#plt.figure(figsize=(2,10))\n",
    "\n",
    "sns.set_style(\"ticks\")\n",
    "\n",
    "# 6:13 represents the absent columns\n",
    "# 13:20 represents the tardy columns\n",
    "x_values = range(6,13)\n",
    "for i in range(len(dataForGraph)):\n",
    "    absences_y = dataForGraph.iloc[i].values[5:12]\n",
    "    tardies_y = dataForGraph.iloc[i].values[12:19]\n",
    "\n",
    "    ax1.plot(x_values, np.array(absences_y), alpha=0.7)    \n",
    "    ax2.plot(x_values, np.array(tardies_y), alpha=0.7)\n",
    "\n",
    "ax1.set_title(\"Absences from 6th to 12th grade\")\n",
    "ax2.set_title(\"Tardies from 6th to 12th grade\")\n",
    "\n",
    "ax1.set_ylabel(\"Absences\")\n",
    "ax2.set_ylabel(\"Tardies\")\n",
    "\n",
    "ax2.set_xlabel(\"Grade\")\n",
    "ax1.set_xlabel(\"Grade\")\n",
    "\n",
    "plt.subplots_adjust(wspace=0.2)"
   ]
  },
  {
   "cell_type": "code",
   "execution_count": null,
   "metadata": {},
   "outputs": [],
   "source": [
    "\n",
    "# middle school tardies vs middle school absences\n",
    "\n",
    "def create_graph(ax, x, y, xlabel, ylabel, title):\n",
    "    ax.title.set_position([.5, 1.05])\n",
    "    sns.scatterplot(x=x, y=y, hue=\"Student\", data=dataForGraph, legend=False, ax=ax)\n",
    "    ax.set(xlabel=xlabel, ylabel=ylabel, title=title)\n",
    "\n",
    "    \n",
    "with sns.axes_style(\"white\"):\n",
    "    fg, [[ax1, ax2], [ax3, ax4]] = plt.subplots(2,2, figsize=(15,7))\n",
    "    sns.despine(fig=fg)\n",
    "    create_graph(ax1, \"TardySum\", \"AbsentSum\", \"Sum of Tardies\", \"Sum of Absences\", \"Relationship between Tardies and Absences\")\n",
    "\n",
    "    create_graph(ax2, \"AbsencesSum_MS\", \n",
    "                 \"AbsencesSum_HS\", \n",
    "                 \"Middle School Absences\", \n",
    "                 \"High School Absences\", \n",
    "                 \"Relationship between High School and Middle School Absences\")\n",
    "\n",
    "    create_graph(ax3, \"TardiesSum_MS\", \n",
    "                 \"TardiesSum_HS\", \n",
    "                 \"Tardies in Middle School\", \n",
    "                 \"Tardies in High School\", \n",
    "                 \"Relationship between High School and Middle School Tardies\")\n",
    "\n",
    "    create_graph(ax4, \"TardiesSum_MS\", \n",
    "                 \"AbsencesSum_HS\", \n",
    "                 \"Tardies in Middle School\", \n",
    "                 \"Absences in High School\", \n",
    "                 \"Relationship between Tardies and Absences in Middle/High School\")\n",
    "\n",
    "\n",
    "plt.subplots_adjust(wspace=1, top=2)\n"
   ]
  },
  {
   "cell_type": "code",
   "execution_count": null,
   "metadata": {},
   "outputs": [],
   "source": [
    "\n",
    "print(\"Corrleration between Absences in MS and HS: \")\n",
    "print(np.corrcoef(dataForGraph[\"AbsencesSum_MS\"], dataForGraph[\"AbsencesSum_HS\"]))\n",
    "\n",
    "print(\"Corrleration between Tardies in MS and Absences HS:% i\")\n",
    "print(np.corrcoef(dataForGraph[\"TardiesSum_MS\"], dataForGraph[\"AbsencesSum_HS\"]))\n",
    "\n",
    "\n",
    "print(\"Corrleration between Tardies in MS and Tardies HS:% i\")\n",
    "print(np.corrcoef(dataForGraph[\"TardiesSum_MS\"], dataForGraph[\"TardiesSum_HS\"]))"
   ]
  },
  {
   "cell_type": "code",
   "execution_count": null,
   "metadata": {},
   "outputs": [],
   "source": [
    "plt.clf()\n",
    "\n",
    "Histbins = range(0,100,10)\n",
    "\n",
    "def ecdf(data):\n",
    "    \"\"\"Compute ECDF for a one-dimensional array of measurements.\"\"\"\n",
    "    # Number of data points: n\n",
    "    n = len(data)\n",
    "\n",
    "    # x-data for the ECDF: x\n",
    "    x = np.sort(data)\n",
    "\n",
    "    # y-data for the ECDF: y\n",
    "    y = np.arange(1, n+1) / n\n",
    "\n",
    "    return x, y\n",
    "\n",
    "students = dataForGraph[\"AbsencesSum_HS\"]\n",
    "\n",
    "x_, y_ = ecdf(students)\n",
    "\n",
    "students = dataForGraph[\"TardiesSum_HS\"]\n",
    "h, g = ecdf(students)\n",
    "\n",
    "with sns.axes_style(\"white\"):\n",
    "    fig, (ax1, ax2) = plt.subplots(1,2, figsize=(17,6))\n",
    "    sns.despine(fig=fig)\n",
    "    \n",
    "    sns.distplot(dataForGraph[\"AbsencesSum_HS\"], bins=Histbins, kde=False, rug=False, ax=ax1, hist_kws=dict(alpha=0.5))\n",
    "    sns.distplot(dataForGraph[\"TardiesSum_HS\"], bins=Histbins, kde=False, rug=False, ax=ax1, hist_kws=dict(alpha=0.3))\n",
    "    ax1.set_xlabel(\"Total Absences in Middle and High School\")\n",
    "    ax1.set_ylabel(\"Number of Students\")\n",
    "    sns.scatterplot(x=x_, y=y_)\n",
    "    sns.scatterplot(x=h, y=g)\n",
    "    \n",
    "    ax2.set_xlabel(\"Total Absences in High School\")\n",
    "\n"
   ]
  },
  {
   "cell_type": "code",
   "execution_count": null,
   "metadata": {},
   "outputs": [],
   "source": [
    "plt.clf()\n",
    "\n",
    "Histbins = range(0,100,10)\n",
    "\n",
    "students = dataForGraph[\"AbsencesSum_HS\"]\n",
    "\n",
    "x_, y_ = ecdf(students)\n",
    "\n",
    "students = dataForGraph[\"TardiesSum_HS\"]\n",
    "h, g = ecdf(students)\n",
    "\n",
    "with sns.axes_style(\"white\"):\n",
    "    fig, (ax1, ax2) = plt.subplots(1,2, figsize=(17,6))\n",
    "    sns.despine(fig=fig)\n",
    "    \n",
    "    sns.distplot(dataForGraph[\"AbsencesSum_HS\"], bins=Histbins, kde=False, rug=False, ax=ax1, hist_kws=dict(alpha=0.5))\n",
    "    sns.distplot(dataForGraph[\"TardiesSum_HS\"], bins=Histbins, kde=False, rug=False, ax=ax1, hist_kws=dict(alpha=0.3))\n",
    "    ax1.set_xlabel(\"Total Absences in Middle and High School\")\n",
    "    ax1.set_ylabel(\"Number of Students\")\n",
    "    \n",
    "    sns.boxplot(x=\"AbsencesSum_HS\", data=dataForGraph, ax=ax2)\n",
    "  \n",
    "    ax2.set_xlabel(\"Total Absences in High School\")\n",
    "\n"
   ]
  },
  {
   "cell_type": "code",
   "execution_count": null,
   "metadata": {},
   "outputs": [],
   "source": [
    "plt.clf()\n",
    "\n",
    "numOfStudents, cols = dataForGraph.shape\n",
    "\n",
    "absentColumns = column_list(\"A\", 9, 13)\n",
    "barplot_absences = dataForGraph[absentColumns]\n",
    "\n",
    "percentageOfChronic = \\\n",
    "    100 * np.array([len(barplot_absences[barplot_absences[i] >= 18]) for i in absentColumns]) / numOfStudents\n",
    "\n",
    "with sns.axes_style(\"whitegrid\"):    \n",
    "    fig, (ax1, ax2) = plt.subplots(1, 2, figsize=(15,7))\n",
    "    sns.despine(fig=fig)\n",
    "    sns.barplot(data=barplot_absences, ax=ax1, ci=None)\n",
    "    ax1.title.set_position([.5, 1.05])\n",
    "    ax1.set_xticklabels([\"9th\", \"10th\", \"11th\", \"12th\"])\n",
    "    ax1.set_title(\"Average Absences During High School for 2020 Seniors\")\n",
    "    ax1.set_ylabel(\"Average Absences\")\n",
    "\n",
    "    plt.ylim([0,100])\n",
    "    sns.barplot(x=list(range(0, len(percentageOfChronic))), y=percentageOfChronic.tolist(), ax=ax2)\n",
    "    ax2.title.set_position([.5, 1.05])\n",
    "    ax2.set_xticklabels([\"9th\", \"10th\", \"11th\", \"12th\"])\n",
    "    ax2.set_title(\"Percentage of Chronically Absent 2020 Seniors during High School\")\n",
    "    ax2.set_ylabel(\"Percentage of Students\")\n",
    "    \n",
    "#perhaps look for 2020 student data and compare the two findings???\n",
    "    "
   ]
  },
  {
   "cell_type": "code",
   "execution_count": null,
   "metadata": {},
   "outputs": [],
   "source": [
    "print(\"Percentage of Chronic Absentees by HS Grade in Sample\")\n",
    "for i in list(zip(column_list(\"Absences in \", 9, 13), percentageOfChronic.tolist())):\n",
    "    print(i)\n",
    "    \n",
    "Image('../input/testimage/Reserved.ReportViewerWebControl-1.png')"
   ]
  }
 ],
 "metadata": {
  "kernelspec": {
   "display_name": "Python 3",
   "language": "python",
   "name": "python3"
  },
  "language_info": {
   "codemirror_mode": {
    "name": "ipython",
    "version": 3
   },
   "file_extension": ".py",
   "mimetype": "text/x-python",
   "name": "python",
   "nbconvert_exporter": "python",
   "pygments_lexer": "ipython3",
   "version": "3.8.3"
  }
 },
 "nbformat": 4,
 "nbformat_minor": 4
}