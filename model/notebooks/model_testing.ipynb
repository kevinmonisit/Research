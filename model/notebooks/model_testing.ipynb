{
 "cells": [
  {
   "cell_type": "code",
   "source": [
    "import numpy as np\n",
    "import pandas as pd\n",
    "from sklearn.preprocessing import OneHotEncoder\n",
    "import model.model_setup as ms\n",
    "from sklearn.compose import ColumnTransformer\n",
    "\n",
    "student_data = pd.read_csv(\"../data/High School East Student Data - Sheet1.csv\")\n",
    "features = [\"A6\", \"A7\", \"A8\"]\n",
    "student_data[\"AbsencesSum_HS\"] = 0\n",
    "\n",
    "# Pipeline doesn't allow transformations on the target label\n",
    "# so I have to do transformations outside of Pipeline in order\n",
    "# to sum all absences in High School for each student.\n",
    "for j in ms.column_list(\"A\", 9, 13):\n",
    "    student_data[j] = student_data[j].apply(ms.convert_stat)\n",
    "\n",
    "\n",
    "student_data[\"AbsencesSum_HS\"] = student_data[ms.column_list('A', 9, 13)].sum(axis=1)\n",
    "\n",
    "# because we've created the total absences in high school column\n",
    "# we are now able to eliminate outliers in the dataset.\n",
    "ms.remove_outliers(student_data, student_data[\"AbsencesSum_HS\"], 0, 0.95)\n",
    "\n",
    "pre_process = ColumnTransformer(remainder='passthrough',\n",
    "                                transformers=[('categories', OneHotEncoder(), [\"Gender\", \"IEP/Specialized\"])])\n",
    "\n",
    "print(\"pass\")"
   ],
   "metadata": {
    "collapsed": false,
    "pycharm": {
     "name": "#%%\n"
    }
   },
   "execution_count": null,
   "outputs": []
  },
  {
   "cell_type": "markdown",
   "source": [
    "# Model Testing\n",
    "\n",
    "Linear Regression\n",
    " - Ridge Regression\n",
    " - Lasso Regression\n",
    " - Net Regression\n",
    " - Grid Search for C and L1/L2\n",
    "\n",
    "# Grid Search\n",
    " - Random\n",
    " - Grid"
   ],
   "metadata": {
    "collapsed": false
   }
  },
  {
   "cell_type": "code",
   "execution_count": null,
   "outputs": [],
   "source": [
    "\n",
    "\n",
    "linearRegressor = GridSearchCV()"
   ],
   "metadata": {
    "collapsed": false,
    "pycharm": {
     "name": "#%%\n"
    }
   }
  }
 ],
 "metadata": {
  "kernelspec": {
   "display_name": "Python 3",
   "language": "python",
   "name": "python3"
  },
  "language_info": {
   "codemirror_mode": {
    "name": "ipython",
    "version": 2
   },
   "file_extension": ".py",
   "mimetype": "text/x-python",
   "name": "python",
   "nbconvert_exporter": "python",
   "pygments_lexer": "ipython2",
   "version": "2.7.6"
  }
 },
 "nbformat": 4,
 "nbformat_minor": 0
}