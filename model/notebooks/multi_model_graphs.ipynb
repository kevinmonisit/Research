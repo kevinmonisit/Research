{
 "cells": [
  {
   "cell_type": "markdown",
   "source": [
    "gIn this notebook, I will automate the performance recording of the individual models.\n",
    "This will also automate the graphs as well."
   ],
   "metadata": {
    "collapsed": false,
    "pycharm": {
     "name": "#%% md\n"
    }
   }
  },
  {
   "cell_type": "code",
   "execution_count": 1,
   "outputs": [
    {
     "name": "stdout",
     "output_type": "stream",
     "text": [
      "Number of students on reduced lunch: 23\n",
      "<class 'pandas.core.frame.DataFrame'>\n",
      "Scoring used:  recall\n",
      "Best parameters:  {}\n",
      "Best/Mean score using best parameters:  0.3666666666666666\n",
      "False    11\n",
      "True      9\n",
      "Name: ChronicallyAbsent_in_HS, dtype: int64\n",
      "<class 'pandas.core.frame.DataFrame'>\n",
      "Scoring used:  recall\n",
      "Best parameters:  {}\n",
      "Best/Mean score using best parameters:  0.4333333333333333\n",
      "False    11\n",
      "True      9\n",
      "Name: ChronicallyAbsent_in_HS, dtype: int64\n",
      "<class 'pandas.core.frame.DataFrame'>\n",
      "Scoring used:  recall\n",
      "Best parameters:  {}\n",
      "Best/Mean score using best parameters:  0.4999999999999999\n",
      "False    11\n",
      "True      9\n",
      "Name: ChronicallyAbsent_in_HS, dtype: int64\n",
      "<class 'pandas.core.frame.DataFrame'>\n",
      "Scoring used:  recall\n",
      "Best parameters:  {}\n",
      "Best/Mean score using best parameters:  0.4999999999999999\n",
      "False    11\n",
      "True      9\n",
      "Name: ChronicallyAbsent_in_HS, dtype: int64\n"
     ]
    }
   ],
   "source": [
    "from sklearn.ensemble import RandomForestClassifier, AdaBoostClassifier\n",
    "from sklearn.linear_model import LogisticRegression\n",
    "from sklearn.svm import SVC\n",
    "import model.model_setup as ms\n",
    "import model.temporary.testing_k_folds as tk\n",
    "from model.multi_models import ModelWrapper, get_model_wrapper_list\n",
    "\n",
    "random_state = 1\n",
    "test_size = 0.25\n",
    "\n",
    "student_data = ms.get_student_data('../../data/data.csv', bin=False)\n",
    "features = [\"A8\", \"Has_504\", \"Student on Free or Reduced Lunch\", \"IEP/Specialized\"]\n",
    "\n",
    "models = [RandomForestClassifier(random_state=1),\n",
    "          AdaBoostClassifier(random_state=1),\n",
    "          LogisticRegression(),\n",
    "          SVC(random_state=1, probability=True)]\n",
    "\n",
    "model_wrapper_list = get_model_wrapper_list(models,\n",
    "                                            student_data[features],\n",
    "                                            student_data['ChronicallyAbsent_in_HS'],\n",
    "                                            random_state=random_state,\n",
    "                                            test_size=test_size)\n",
    "\n",
    "for i in model_wrapper_list:\n",
    "    i.fit()\n",
    "    print(i.results[\"y_test\"].value_counts())"
   ],
   "metadata": {
    "collapsed": false,
    "pycharm": {
     "name": "#%%\n"
    }
   }
  },
  {
   "cell_type": "code",
   "execution_count": 2,
   "outputs": [
    {
     "name": "stdout",
     "output_type": "stream",
     "text": [
      "\n",
      "AUC of RandomForestClassifier: 0.904\n",
      "\n",
      "AUC of AdaBoostClassifier: 0.879\n",
      "\n",
      "AUC of LogisticRegression: 0.869\n",
      "\n",
      "AUC of SVC: 0.848\n",
      "[[10  1]\n",
      " [ 1  8]]\n",
      "0.9\n",
      "[[10  1]\n",
      " [ 2  7]]\n",
      "0.85\n",
      "[[10  1]\n",
      " [ 3  6]]\n",
      "0.8\n",
      "[[10  1]\n",
      " [ 3  6]]\n",
      "0.8\n"
     ]
    },
    {
     "data": {
      "text/plain": "<Figure size 432x288 with 1 Axes>",
      "image/png": "[encoded data removed]"
     },
     "metadata": {
      "needs_background": "light"
     },
     "output_type": "display_data"
    }
   ],
   "source": [
    "import matplotlib.pyplot as plt\n",
    "\n",
    "plt.plot([0,1], [0,1], 'k--')\n",
    "\n",
    "for model in model_wrapper_list:\n",
    "    plt.plot(*model.get_roc_curve())\n",
    "\n",
    "for i in model_wrapper_list:\n",
    "    print(i.results[\"matrix\"])\n",
    "    print(i.results[\"accuracy\"])\n",
    "\n",
    "    \"\"\"\n",
    "\n",
    "    TEST SIZE: 0.3\n",
    "    RANDOM STATE=1\n",
    "    AUC of RandomForestClassifier: 0.857\n",
    "\n",
    "AUC of AdaBoostClassifier: 0.871\n",
    "\n",
    "AUC of LogisticRegression: 0.850\n",
    "[[12  2]\n",
    " [ 2  8]]\n",
    "0.8333333333333334\n",
    "[[12  2]\n",
    " [ 4  6]]\n",
    "0.75\n",
    "[[12  2]\n",
    " [ 4  6]]\n",
    "0.75\n",
    "\"\"\""
   ],
   "metadata": {
    "collapsed": false,
    "pycharm": {
     "name": "#%%\n"
    }
   }
  },
  {
   "cell_type": "code",
   "execution_count": 3,
   "metadata": {
    "collapsed": true
   },
   "outputs": [
    {
     "name": "stdout",
     "output_type": "stream",
     "text": [
      "\n",
      "AUC of RandomForestClassifier: 0.904\n",
      "\n",
      "AUC of AdaBoostClassifier: 0.879\n",
      "\n",
      "AUC of LogisticRegression: 0.869\n",
      "\n",
      "AUC of SVC: 0.848\n",
      "[[10  1]\n",
      " [ 1  8]]\n",
      "0.9\n",
      "[[10  1]\n",
      " [ 2  7]]\n",
      "0.85\n",
      "[[10  1]\n",
      " [ 3  6]]\n",
      "0.8\n",
      "[[10  1]\n",
      " [ 3  6]]\n",
      "0.8\n"
     ]
    },
    {
     "data": {
      "text/plain": "<Figure size 432x288 with 1 Axes>",
      "image/png": "[encoded data removed]"
     },
     "metadata": {
      "needs_background": "light"
     },
     "output_type": "display_data"
    }
   ],
   "source": [
    "import matplotlib.pyplot as plt\n",
    "\n",
    "plt.plot([0,1], [0,1], 'k--')\n",
    "\n",
    "for model in model_wrapper_list:\n",
    "    plt.plot(*model.get_roc_curve())\n",
    "\n",
    "for i in model_wrapper_list:\n",
    "    print(i.results[\"matrix\"])\n",
    "    print(i.results[\"accuracy\"])\n",
    "\n",
    "    \"\"\"\n",
    "\n",
    "    TEST SIZE: 0.3\n",
    "    RANDOM STATE=1\n",
    "    AUC of RandomForestClassifier: 0.857\n",
    "\n",
    "AUC of AdaBoostClassifier: 0.871\n",
    "\n",
    "AUC of LogisticRegression: 0.850\n",
    "[[12  2]\n",
    " [ 2  8]]\n",
    "0.8333333333333334\n",
    "[[12  2]\n",
    " [ 4  6]]\n",
    "0.75\n",
    "[[12  2]\n",
    " [ 4  6]]\n",
    "0.75\n",
    "\"\"\""
   ]
  },
  {
   "cell_type": "code",
   "execution_count": 4,
   "outputs": [
    {
     "name": "stdout",
     "output_type": "stream",
     "text": [
      "\n",
      "AUC of RandomForestClassifier: 0.904\n",
      "\n",
      "AUC of AdaBoostClassifier: 0.879\n",
      "\n",
      "AUC of LogisticRegression: 0.869\n",
      "\n",
      "AUC of SVC: 0.848\n",
      "[[10  1]\n",
      " [ 1  8]]\n",
      "0.9\n",
      "[[10  1]\n",
      " [ 2  7]]\n",
      "0.85\n",
      "[[10  1]\n",
      " [ 3  6]]\n",
      "0.8\n",
      "[[10  1]\n",
      " [ 3  6]]\n",
      "0.8\n"
     ]
    },
    {
     "data": {
      "text/plain": "<Figure size 432x288 with 1 Axes>",
      "image/png": "[encoded data removed]"
     },
     "metadata": {
      "needs_background": "light"
     },
     "output_type": "display_data"
    }
   ],
   "source": [
    "import matplotlib.pyplot as plt\n",
    "\n",
    "plt.plot([0,1], [0,1], 'k--')\n",
    "\n",
    "for model in model_wrapper_list:\n",
    "    plt.plot(*model.get_roc_curve(), label=model.model_name)\n",
    "\n",
    "plt.legend(loc='best')\n",
    "\n",
    "for i in model_wrapper_list:\n",
    "    print(i.results[\"matrix\"])\n",
    "    print(i.results[\"accuracy\"])\n",
    "\n",
    "    \"\"\"\n",
    "\n",
    "    TEST SIZE: 0.3\n",
    "    RANDOM STATE=1\n",
    "    AUC of RandomForestClassifier: 0.857\n",
    "\n",
    "AUC of AdaBoostClassifier: 0.871\n",
    "\n",
    "AUC of LogisticRegression: 0.850\n",
    "[[12  2]\n",
    " [ 2  8]]\n",
    "0.8333333333333334\n",
    "[[12  2]\n",
    " [ 4  6]]\n",
    "0.75\n",
    "[[12  2]\n",
    " [ 4  6]]\n",
    "0.75\n",
    "\"\"\""
   ],
   "metadata": {
    "collapsed": false,
    "pycharm": {
     "name": "#%%\n"
    }
   }
  },
  {
   "cell_type": "code",
   "execution_count": 5,
   "outputs": [
    {
     "ename": "AttributeError",
     "evalue": "'LogisticRegression' object has no attribute 'feature_importances_'",
     "output_type": "error",
     "traceback": [
      "\u001B[1;31m---------------------------------------------------------------------------\u001B[0m",
      "\u001B[1;31mAttributeError\u001B[0m                            Traceback (most recent call last)",
      "\u001B[1;32m<ipython-input-5-1c0740a86b94>\u001B[0m in \u001B[0;36m<module>\u001B[1;34m\u001B[0m\n\u001B[0;32m     11\u001B[0m \u001B[1;33m\u001B[0m\u001B[0m\n\u001B[0;32m     12\u001B[0m \u001B[1;32mfor\u001B[0m \u001B[0mi\u001B[0m \u001B[1;32min\u001B[0m \u001B[0mmodel_wrapper_list\u001B[0m\u001B[1;33m:\u001B[0m\u001B[1;33m\u001B[0m\u001B[1;33m\u001B[0m\u001B[0m\n\u001B[1;32m---> 13\u001B[1;33m     \u001B[0mfeature_importances_\u001B[0m \u001B[1;33m=\u001B[0m \u001B[0mi\u001B[0m\u001B[1;33m.\u001B[0m\u001B[0mmodel\u001B[0m\u001B[1;33m.\u001B[0m\u001B[0mbest_estimator_\u001B[0m\u001B[1;33m[\u001B[0m\u001B[1;34m'model'\u001B[0m\u001B[1;33m]\u001B[0m\u001B[1;33m.\u001B[0m\u001B[0mfeature_importances_\u001B[0m\u001B[1;33m\u001B[0m\u001B[1;33m\u001B[0m\u001B[0m\n\u001B[0m\u001B[0;32m     14\u001B[0m     \u001B[0mfeature_importances_info\u001B[0m\u001B[1;33m[\u001B[0m\u001B[0mi\u001B[0m\u001B[1;33m.\u001B[0m\u001B[0mmodel_name\u001B[0m\u001B[1;33m]\u001B[0m \u001B[1;33m=\u001B[0m \u001B[1;33m[\u001B[0m\u001B[1;33m]\u001B[0m\u001B[1;33m\u001B[0m\u001B[1;33m\u001B[0m\u001B[0m\n\u001B[0;32m     15\u001B[0m \u001B[1;33m\u001B[0m\u001B[0m\n",
      "\u001B[1;31mAttributeError\u001B[0m: 'LogisticRegression' object has no attribute 'feature_importances_'"
     ]
    }
   ],
   "source": [
    "\"\"\"\n",
    "Linear Regression must be bagged in order to get feature importance?\n",
    "Soren Havelund Welling (https://stats.stackexchange.com/users/49132/soren-havelund-welling), Feature Importance for\n",
    "Linear Regression, URL (version: 2019-08-21): https://stats.stackexchange.com/q/423094\n",
    "\n",
    "Try binning your\n",
    "\"\"\"\n",
    "\n",
    "# Getting feature importance of models\n",
    "feature_importances_info = {}\n",
    "\n",
    "for i in model_wrapper_list:\n",
    "    feature_importances_ = i.model.best_estimator_['model'].feature_importances_\n",
    "    feature_importances_info[i.model_name] = []\n",
    "\n",
    "    for feature, importance in zip(i.column_names, feature_importances_):\n",
    "        feature_importances_info[i.model_name].append((feature, importance))\n",
    "\n",
    "for i in feature_importances_info[\"RandomForestClassifier\"]:\n",
    "    print(i)\n",
    "\n",
    "for i in feature_importances_info[\"AdaBoostClassifier\"]:\n",
    "    print(i)"
   ],
   "metadata": {
    "collapsed": false,
    "pycharm": {
     "name": "#%%\n"
    }
   }
  }
 ],
 "metadata": {
  "kernelspec": {
   "name": "python3",
   "language": "python",
   "display_name": "Python 3"
  },
  "language_info": {
   "codemirror_mode": {
    "name": "ipython",
    "version": 2
   },
   "file_extension": ".py",
   "mimetype": "text/x-python",
   "name": "python",
   "nbconvert_exporter": "python",
   "pygments_lexer": "ipython2",
   "version": "2.7.6"
  }
 },
 "nbformat": 4,
 "nbformat_minor": 0
}