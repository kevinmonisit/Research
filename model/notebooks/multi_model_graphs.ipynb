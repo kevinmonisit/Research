{
 "cells": [
  {
   "cell_type": "code",
   "execution_count": null,
   "metadata": {
    "collapsed": true
   },
   "outputs": [],
   "source": [
    "from sklearn.ensemble import RandomForestClassifier\n",
    "import model.model_setup as ms\n",
    "import model.temporary.testing_k_folds as tk\n",
    "from model.multi_models import ModelWrapper\n",
    "\n",
    "random_state = 1\n",
    "test_size = 0.2\n",
    "\n",
    "student_data = ms.get_student_data('../../data/data.csv', bin=False)\n",
    "features = [\"A8\", \"Has_504\", \"Student on Free or Reduced Lunch\", \"IEP/Specialized\"]\n",
    "\n",
    "random_forest = ModelWrapper(RandomForestClassifier(random_state=1),\n",
    "                             dict(),\n",
    "                             tk.TrainTestSplitWrapper(student_data[features],\n",
    "                                                      student_data['ChronicallyAbsent_in_HS'],\n",
    "                                                      test_size=test_size,\n",
    "                                                      random_state=random_state))\n",
    "\n",
    "model_wrapper_list = [random_forest]\n",
    "\n",
    "for i in model_wrapper_list:\n",
    "    i.fit()\n",
    "\n"
   ]
  }
 ],
 "metadata": {
  "kernelspec": {
   "display_name": "Python 3",
   "language": "python",
   "name": "python3"
  },
  "language_info": {
   "codemirror_mode": {
    "name": "ipython",
    "version": 2
   },
   "file_extension": ".py",
   "mimetype": "text/x-python",
   "name": "python",
   "nbconvert_exporter": "python",
   "pygments_lexer": "ipython2",
   "version": "2.7.6"
  }
 },
 "nbformat": 4,
 "nbformat_minor": 0
}