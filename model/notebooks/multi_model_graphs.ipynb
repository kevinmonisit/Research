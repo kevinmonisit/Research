{
 "cells": [
  {
   "cell_type": "markdown",
   "source": [
    "gIn this notebook, I will automate the performance recording of the individual models.\n",
    "This will also automate the graphs as well."
   ],
   "metadata": {
    "collapsed": false,
    "pycharm": {
     "name": "#%% md\n"
    }
   }
  },
  {
   "cell_type": "code",
   "execution_count": 1,
   "metadata": {
    "collapsed": true
   },
   "outputs": [
    {
     "name": "stdout",
     "output_type": "stream",
     "text": [
      "Number of students on reduced lunch: 23\n",
      "4 outliers were removed\n",
      "<class 'pandas.core.frame.DataFrame'>\n",
      "Scoring used:  recall\n",
      "Best parameters:  {}\n",
      "Best/Mean score using best parameters:  0.5666666666666667\n",
      "<class 'pandas.core.frame.DataFrame'>\n",
      "Scoring used:  recall\n",
      "Best parameters:  {}\n",
      "Best/Mean score using best parameters:  0.5\n",
      "<class 'pandas.core.frame.DataFrame'>\n",
      "Scoring used:  recall\n",
      "Best parameters:  {}\n",
      "Best/Mean score using best parameters:  0.6333333333333333\n"
     ]
    }
   ],
   "source": [
    "from sklearn.ensemble import RandomForestClassifier, AdaBoostClassifier\n",
    "from sklearn.linear_model import LogisticRegression\n",
    "import model.model_setup as ms\n",
    "import model.temporary.testing_k_folds as tk\n",
    "from model.multi_models import ModelWrapper, get_model_wrapper_list\n",
    "\n",
    "random_state = 1\n",
    "test_size = 0.3\n",
    "\n",
    "student_data = ms.get_student_data('../../data/data.csv', bin=False)\n",
    "features = [\"A8\", \"Has_504\", \"Student on Free or Reduced Lunch\", \"IEP/Specialized\"]\n",
    "\n",
    "models = [RandomForestClassifier(random_state=1),\n",
    "          AdaBoostClassifier(random_state=1),\n",
    "          LogisticRegression()]\n",
    "\n",
    "model_wrapper_list = get_model_wrapper_list(models,\n",
    "                                            student_data[features],\n",
    "                                            student_data['ChronicallyAbsent_in_HS'],\n",
    "                                            random_state=random_state,\n",
    "                                            test_size=test_size)\n",
    "\n",
    "for i in model_wrapper_list:\n",
    "    i.fit()"
   ]
  },
  {
   "cell_type": "code",
   "execution_count": 3,
   "outputs": [
    {
     "name": "stdout",
     "output_type": "stream",
     "text": [
      "\n",
      "AUC of RandomForestClassifier: 0.762\n",
      "\n",
      "AUC of AdaBoostClassifier: 0.766\n",
      "\n",
      "AUC of LogisticRegression: 0.782\n",
      "[[13  1]\n",
      " [ 7  2]]\n",
      "0.6521739130434783\n",
      "[[13  1]\n",
      " [ 3  6]]\n",
      "0.8260869565217391\n",
      "[[12  2]\n",
      " [ 6  3]]\n",
      "0.6521739130434783\n"
     ]
    },
    {
     "data": {
      "text/plain": "<Figure size 432x288 with 1 Axes>",
      "image/png": "[encoded data removed]"
     },
     "metadata": {
      "needs_background": "light"
     },
     "output_type": "display_data"
    }
   ],
   "source": [
    "import matplotlib.pyplot as plt\n",
    "\n",
    "plt.plot([0,1], [0,1], 'k--')\n",
    "\n",
    "for model in model_wrapper_list:\n",
    "    plt.plot(*model.get_roc_curve())\n",
    "\n",
    "for i in model_wrapper_list:\n",
    "    print(i.results[\"matrix\"])\n",
    "    print(i.results[\"accuracy\"])\n",
    "\n",
    "    \"\"\"\n",
    "\n",
    "    TEST SIZE: 0.3\n",
    "    RANDOM STATE=1\n",
    "    AUC of RandomForestClassifier: 0.857\n",
    "\n",
    "AUC of AdaBoostClassifier: 0.871\n",
    "\n",
    "AUC of LogisticRegression: 0.850\n",
    "[[12  2]\n",
    " [ 2  8]]\n",
    "0.8333333333333334\n",
    "[[12  2]\n",
    " [ 4  6]]\n",
    "0.75\n",
    "[[12  2]\n",
    " [ 4  6]]\n",
    "0.75\n",
    "\"\"\""
   ],
   "metadata": {
    "collapsed": false,
    "pycharm": {
     "name": "#%%\n"
    }
   }
  }
 ],
 "metadata": {
  "kernelspec": {
   "name": "pycharm-787e714",
   "language": "python",
   "display_name": "PyCharm (2020 Research)"
  },
  "language_info": {
   "codemirror_mode": {
    "name": "ipython",
    "version": 2
   },
   "file_extension": ".py",
   "mimetype": "text/x-python",
   "name": "python",
   "nbconvert_exporter": "python",
   "pygments_lexer": "ipython2",
   "version": "2.7.6"
  }
 },
 "nbformat": 4,
 "nbformat_minor": 0
}