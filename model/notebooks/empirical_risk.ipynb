{
 "cells": [
  {
   "cell_type": "code",
   "execution_count": 1,
   "metadata": {
    "collapsed": true
   },
   "outputs": [
    {
     "name": "stdout",
     "output_type": "stream",
     "text": [
      "Number of students on reduced lunch: 23\n",
      "<class 'pandas.core.frame.DataFrame'>\n",
      "Scoring used:  recall\n",
      "Best parameters:  {}\n",
      "Best/Mean score using best parameters:  0.4\n",
      "[[12  2]\n",
      " [ 2  8]]\n",
      "Percentage:  0.8333333333333334\n",
      "24\n",
      "done\n"
     ]
    }
   ],
   "source": [
    "import matplotlib.pyplot as plt\n",
    "import model.temporary.testing_k_folds as driver\n",
    "from sklearn.metrics import confusion_matrix\n",
    "\n",
    "'''\n",
    "- i = get classification probabilities\n",
    "- determine the bins\n",
    "- determine students that fit within their\n",
    "respective bins\n",
    "- determine those who are TP and FP\n",
    "  (probably determined beforehand somehow)\n",
    "- loop through student list, summing\n",
    "  all the empirical risks and then getting\n",
    "  the mean\n",
    "- Plot\n",
    "\n",
    "- The empirical risk curve will most likely\n",
    "  not resemble the paper, so there might\n",
    "  need to be changes.\n",
    "'''\n",
    "\n",
    "model_pipeline, X_test, y_test = driver.get_model_pipeline()\n",
    "print('done')"
   ]
  },
  {
   "cell_type": "code",
   "execution_count": 2,
   "outputs": [],
   "source": [
    "class Bin:\n",
    "    total_instances = 0\n",
    "    real_positives = 0\n",
    "    upper_range = 0\n",
    "    lower_range = 0\n",
    "    index = 0\n",
    "    empirical_risk = 0\n",
    "\n",
    "    def __init__(self, index, number_of_bins):\n",
    "        ranges = 1 / number_of_bins\n",
    "        self.upper_range = (index+1) * ranges\n",
    "        self.lower_range = (self.upper_range - ranges) - 0.0001\n",
    "        self.index = index\n",
    "\n",
    "    def add_student(self, is_real_positive):\n",
    "        self.total_instances += 1\n",
    "\n",
    "        if is_real_positive:\n",
    "            self.real_positives += 1\n",
    "\n",
    "        self.empirical_risk = self.real_positives / self.total_instances"
   ],
   "metadata": {
    "collapsed": false,
    "pycharm": {
     "name": "#%%\n"
    }
   }
  },
  {
   "cell_type": "markdown",
   "source": [
    "Each bin object in the bins array will hold information regarding the\n",
    "distribution of students. More than that, it will hold information regarding\n",
    "the number of true positives out of the true positive and negatives."
   ],
   "metadata": {
    "collapsed": false
   }
  },
  {
   "cell_type": "code",
   "source": [
    "number_of_bins = 4\n",
    "bins = [Bin(x, number_of_bins)for x in range(0,number_of_bins)]\n",
    "\n",
    "for i in bins:\n",
    "    print(i.lower_range)\n",
    "    print(i.upper_range)\n",
    "\n",
    "print(len(bins))\n",
    "\n",
    "def add_to_bin(bin_array, probability, true_positive):\n",
    "    # takes O(n) but shouldn't matter with such a small dataset\n",
    "    # can use another search method, but this will do for now\n",
    "    # if need be, I can use another method of doing so\n",
    "\n",
    "    if probability > 1 or probability < 0:\n",
    "        raise ValueError(\"Probability must be in range (0, 1)\")\n",
    "    \n",
    "    for k in bin_array:\n",
    "        #bins encompass values of lower range <= x < upper_range\n",
    "        if probability < k.upper_range:\n",
    "            k.add_student(true_positive)\n",
    "            return\n",
    "\n",
    "    raise RuntimeError(\"Could not find bin for a student. Bin array was \\\n",
    "                       initialized wrongly\")\n",
    "\n",
    "print(\"TESTING====\")\n",
    "print(bins[0].total_instances)\n",
    "\n",
    "add_to_bin(bins, 0.11, True)\n",
    "add_to_bin(bins, 0.276, True)\n",
    "add_to_bin(bins, 0.25, True)\n",
    "print(bins[0].total_instances)\n",
    "print(bins[1].total_instances)"
   ],
   "metadata": {
    "collapsed": false,
    "pycharm": {
     "name": "#%%\n"
    }
   },
   "execution_count": 3,
   "outputs": [
    {
     "name": "stdout",
     "output_type": "stream",
     "text": [
      "-0.0001\n",
      "0.25\n",
      "0.2499\n",
      "0.5\n",
      "0.4999\n",
      "0.75\n",
      "0.7499\n",
      "1.0\n",
      "4\n",
      "TESTING====\n",
      "0\n",
      "1\n",
      "2\n"
     ]
    }
   ]
  },
  {
   "cell_type": "code",
   "execution_count": 3,
   "outputs": [],
   "source": [],
   "metadata": {
    "collapsed": false,
    "pycharm": {
     "name": "#%%\n"
    }
   }
  },
  {
   "cell_type": "code",
   "execution_count": 4,
   "outputs": [
    {
     "name": "stdout",
     "output_type": "stream",
     "text": [
      "<class 'pandas.core.frame.DataFrame'>\n",
      "Int64Index([68, 77, 44, 27, 63, 73, 61, 55, 51, 34, 38, 33, 10, 59, 36,  2, 45,\n",
      "            31, 43, 15, 65, 47, 19, 39],\n",
      "           dtype='int64')\n",
      "A8                                      13.0\n",
      "Has_504_No                               1.0\n",
      "Has_504_Yes                              0.0\n",
      "Student on Free or Reduced Lunch_No      0.0\n",
      "Student on Free or Reduced Lunch_Yes     1.0\n",
      "IEP/Specialized_No                       1.0\n",
      "IEP/Specialized_Yes                      0.0\n",
      "Name: 77, dtype: float64\n",
      "<class 'pandas.core.series.Series'>\n",
      "(24, 7)\n",
      "[[12  2]\n",
      " [ 2  8]]\n"
     ]
    }
   ],
   "source": [
    "import numpy as np\n",
    "\n",
    "predictions = []\n",
    "y_pred = [] #this is for the confusion matrix\n",
    "\n",
    "print(type(X_test))\n",
    "print(X_test.index)\n",
    "print(X_test.iloc[1])\n",
    "print(type(X_test.iloc[2]))\n",
    "\n",
    "print(X_test.shape)\n",
    "model_pipeline.predict(X_test.iloc[2].values.reshape(1,-1))\n",
    "\n",
    "for i in range(X_test.shape[0]):\n",
    "    student_data_point = X_test.iloc[i].values.reshape(1,-1)\n",
    "    pred = model_pipeline.predict(student_data_point)\n",
    "    y_pred_prob = model_pipeline.best_estimator_['model'].predict_proba(student_data_point)[:, 1]\n",
    "\n",
    "    #whether a student was positive, regardless if false positive or true positive\n",
    "    student_actually_positive = y_test.iloc[i] == True\n",
    "\n",
    "    predictions.append({\"prediction\": pred[0],\n",
    "                        \"student_actually_positive\": student_actually_positive,\n",
    "                        \"probability\": y_pred_prob[0]})\n",
    "\n",
    "    y_pred.append(pred)\n",
    "\n",
    "matrix = confusion_matrix(y_test, np.asarray(y_pred).reshape(-1,1))\n",
    "print(matrix)"
   ],
   "metadata": {
    "collapsed": false,
    "pycharm": {
     "name": "#%%\n"
    }
   }
  },
  {
   "cell_type": "code",
   "execution_count": 5,
   "outputs": [
    {
     "name": "stdout",
     "output_type": "stream",
     "text": [
      "10\n",
      "BIN 0\n",
      "Instanes:  13\n",
      "Actual positives:  2\n",
      "Empirical Risk of Bin:  0.15384615384615385\n",
      "BIN 1\n",
      "Instanes:  1\n",
      "Actual positives:  0\n",
      "Empirical Risk of Bin:  0.0\n",
      "BIN 2\n",
      "Instanes:  8\n",
      "Actual positives:  6\n",
      "Empirical Risk of Bin:  0.75\n",
      "BIN 3\n",
      "Instanes:  2\n",
      "Actual positives:  2\n",
      "Empirical Risk of Bin:  1.0\n",
      "24\n"
     ]
    }
   ],
   "source": [
    "#### INITIALIZING THE BIN ARRAY\n",
    "bins = [Bin(x, number_of_bins)for x in range(0,number_of_bins)]\n",
    "\n",
    "#COUNT NUMBER OF TRUE POSITIVES\n",
    "count = 0\n",
    "for i in predictions:\n",
    "    if i['student_actually_positive']:\n",
    "        count += 1\n",
    "\n",
    "print(count)\n",
    "\n",
    "for student_results in predictions:\n",
    "    add_to_bin(bins, student_results['probability'], student_results['student_actually_positive'])\n",
    "\n",
    "instances_count = 0\n",
    "for i in bins:\n",
    "    print(\"BIN %i\" % i.index)\n",
    "    instances_count += i.total_instances\n",
    "    print(\"Instances: \", i.total_instances)\n",
    "    print(\"Actual positives: \", i.real_positives)\n",
    "    print(\"Empirical Risk of Bin: \", i.empirical_risk)\n",
    "\n",
    "print(instances_count)"
   ],
   "metadata": {
    "collapsed": false,
    "pycharm": {
     "name": "#%%\n"
    }
   }
  }
 ],
 "metadata": {
  "kernelspec": {
   "name": "python3",
   "language": "python",
   "display_name": "Python 3"
  },
  "language_info": {
   "codemirror_mode": {
    "name": "ipython",
    "version": 2
   },
   "file_extension": ".py",
   "mimetype": "text/x-python",
   "name": "python",
   "nbconvert_exporter": "python",
   "pygments_lexer": "ipython2",
   "version": "2.7.6"
  }
 },
 "nbformat": 4,
 "nbformat_minor": 0
}