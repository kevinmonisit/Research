{
 "cells": [
  {
   "cell_type": "markdown",
   "source": [
    "https://quantdare.com/what-is-the-difference-between-bagging-and-boosting/\n",
    "\n",
    "Bagging classifiers is the best way to defeat over-fitting."
   ],
   "metadata": {
    "collapsed": false,
    "pycharm": {
     "name": "#%% md\n"
    }
   }
  },
  {
   "cell_type": "code",
   "execution_count": 1,
   "outputs": [
    {
     "name": "stdout",
     "output_type": "stream",
     "text": [
      "Number of students on reduced lunch: 23\n",
      "<class 'pandas.core.frame.DataFrame'>\n",
      "Scoring used:  recall\n",
      "Best parameters:  {}\n",
      "Best/Mean score using best parameters:  0.41666666666666663\n",
      "[[7 1]\n",
      " [1 7]]\n",
      "Percentage:  0.875\n",
      "16\n",
      "done\n"
     ]
    }
   ],
   "source": [
    "import matplotlib.pyplot as plt\n",
    "import model.temporary.testing_k_folds as driver\n",
    "from sklearn.metrics import confusion_matrix\n",
    "import matplotlib as plt\n",
    "import seaborn as sns\n",
    "\n",
    "'''\n",
    "- i = get classification probabilities\n",
    "- determine the bins\n",
    "- determine students that fit within their\n",
    "respective bins\n",
    "- determine those who are TP and FP\n",
    "  (probably determined beforehand somehow)\n",
    "- loop through student list, summing\n",
    "  all the empirical risks and then getting\n",
    "  the mean\n",
    "- Plot\n",
    "\n",
    "- The empirical risk curve will most likely\n",
    "  not resemble the paper, so there might\n",
    "  need to be changes.\n",
    "'''\n",
    "\n",
    "model_pipeline, X_test, y_test = driver.get_model_pipeline()\n",
    "print('done')"
   ],
   "metadata": {
    "collapsed": false,
    "pycharm": {
     "name": "#%%\n"
    }
   }
  },
  {
   "cell_type": "code",
   "execution_count": 2,
   "outputs": [],
   "source": [
    "class Bin:\n",
    "    total_instances = 0\n",
    "    real_positives = 0\n",
    "    upper_range = 0\n",
    "    lower_range = 0\n",
    "    index = 0\n",
    "    empirical_risk = 0\n",
    "\n",
    "    def __init__(self, index, number_of_bins):\n",
    "        ranges = 1 / number_of_bins\n",
    "        self.upper_range = (index+1) * ranges\n",
    "        self.lower_range = (self.upper_range - ranges) - 0.001\n",
    "        self.index = index\n",
    "\n",
    "    def add_student(self, is_real_positive):\n",
    "        self.total_instances += 1\n",
    "\n",
    "        if is_real_positive:\n",
    "            self.real_positives += 1\n",
    "\n",
    "        self.empirical_risk = self.real_positives / self.total_instances"
   ],
   "metadata": {
    "collapsed": false,
    "pycharm": {
     "name": "#%%\n"
    }
   }
  },
  {
   "cell_type": "markdown",
   "source": [
    "Each bin object in the bins array will hold information regarding the\n",
    "distribution of students. More than that, it will hold information regarding\n",
    "the number of true positives out of the true positive and negatives."
   ],
   "metadata": {
    "collapsed": false
   }
  },
  {
   "cell_type": "code",
   "source": [
    "number_of_bins_test = 4\n",
    "bins_test = [Bin(x, number_of_bins_test)for x in range(0,number_of_bins_test)]\n",
    "\n",
    "# Parameter: actual_positive encompasses false and true positives.\n",
    "def add_to_bin(bin_array, probability, actual_positive):\n",
    "\n",
    "    if probability > 1 or probability < 0:\n",
    "        raise ValueError(\"Probability must be in range (0, 1)\")\n",
    "    \n",
    "    for k in bin_array:\n",
    "        #bins encompass values of lower range <= x < upper_range\n",
    "        if probability < k.upper_range:\n",
    "            k.add_student(actual_positive)\n",
    "            return\n",
    "\n",
    "        # special case where one's determined probability IS one\n",
    "        if probability == 1 and k.upper_range == 1:\n",
    "            k.add_student(actual_positive)\n",
    "            return\n",
    "\n",
    "    raise RuntimeError(\"Could not find bin for a student. Bin array was \\\n",
    "                       initialized wrongly\")\n",
    "\n",
    "add_to_bin(bins_test, 0.11, True)\n",
    "add_to_bin(bins_test, 0.276, True)\n",
    "add_to_bin(bins_test, 0.25, True)\n",
    "\n",
    "assert bins_test[0].total_instances == 1\n",
    "assert bins_test[1].total_instances == 2"
   ],
   "metadata": {
    "collapsed": false,
    "pycharm": {
     "name": "#%%\n"
    }
   },
   "execution_count": 3,
   "outputs": []
  },
  {
   "cell_type": "code",
   "execution_count": 4,
   "outputs": [
    {
     "name": "stdout",
     "output_type": "stream",
     "text": [
      "<class 'pandas.core.frame.DataFrame'>\n",
      "Int64Index([68, 77, 44, 27, 63, 73, 61, 55, 51, 34, 38, 33, 10, 59, 36, 2], dtype='int64')\n",
      "A8                                      13.0\n",
      "Has_504_No                               1.0\n",
      "Has_504_Yes                              0.0\n",
      "Student on Free or Reduced Lunch_No      0.0\n",
      "Student on Free or Reduced Lunch_Yes     1.0\n",
      "IEP/Specialized_No                       1.0\n",
      "IEP/Specialized_Yes                      0.0\n",
      "Name: 77, dtype: float64\n",
      "<class 'pandas.core.series.Series'>\n",
      "(16, 7)\n",
      "[[7 1]\n",
      " [1 7]]\n",
      "8\n",
      "BIN 0\n",
      "Instances:  7\n",
      "Actual positives:  1\n",
      "Empirical Risk of Bin:  0.14285714285714285\n",
      "BIN 1\n",
      "Instances:  1\n",
      "Actual positives:  0\n",
      "Empirical Risk of Bin:  0.0\n",
      "BIN 2\n",
      "Instances:  4\n",
      "Actual positives:  3\n",
      "Empirical Risk of Bin:  0.75\n",
      "BIN 3\n",
      "Instances:  4\n",
      "Actual positives:  4\n",
      "Empirical Risk of Bin:  1.0\n",
      "16\n"
     ]
    }
   ],
   "source": [
    "import numpy as np\n",
    "\n",
    "predictions = []\n",
    "# contain student info and their probability in order to sort them\n",
    "student_prediction_list = []\n",
    "y_pred = [] #this is for the confusion matrix\n",
    "\n",
    "print(type(X_test))\n",
    "print(X_test.index)\n",
    "print(X_test.iloc[1])\n",
    "print(type(X_test.iloc[2]))\n",
    "\n",
    "print(X_test.shape)\n",
    "\n",
    "\n",
    "model_pipeline.predict(X_test.iloc[2].values.reshape(1,-1))\n",
    "\n",
    "for i in range(X_test.shape[0]):\n",
    "    student_data_point = X_test.iloc[i].values.reshape(1,-1)\n",
    "    pred = model_pipeline.predict(student_data_point)\n",
    "    y_pred_prob = model_pipeline.best_estimator_['model'].predict_proba(student_data_point)[:, 1]\n",
    "\n",
    "    #whether a student was positive, regardless if false positive or true positive\n",
    "    student_actually_positive = y_test.iloc[i] == True\n",
    "\n",
    "    predictions.append({\"prediction\": pred[0],\n",
    "                        \"student_actually_positive\": student_actually_positive,\n",
    "                        \"probability\": y_pred_prob[0]})\n",
    "\n",
    "    student_prediction_list.append({\"student\": student_data_point,\n",
    "                                    \"probability\": y_pred_prob[0]})\n",
    "\n",
    "    y_pred.append(pred)\n",
    "\n",
    "matrix = confusion_matrix(y_test, np.asarray(y_pred).reshape(-1,1))\n",
    "print(matrix)\n",
    "\n",
    "\n",
    "#\n",
    "number_of_bins = 4\n",
    "#### INITIALIZING THE BIN ARRAY\n",
    "bins = [Bin(x, number_of_bins)for x in range(0,number_of_bins)]\n",
    "\n",
    "#COUNT NUMBER OF TRUE POSITIVES\n",
    "count = 0\n",
    "for i in predictions:\n",
    "    if i['student_actually_positive']:\n",
    "        count += 1\n",
    "\n",
    "print(count)\n",
    "\n",
    "for student_results in predictions:\n",
    "    add_to_bin(bins, student_results['probability'], student_results['student_actually_positive'])\n",
    "\n",
    "instances_count = 0\n",
    "for i in bins:\n",
    "    print(\"BIN %i\" % i.index)\n",
    "    instances_count += i.total_instances\n",
    "    print(\"Instances: \", i.total_instances)\n",
    "    print(\"Actual positives: \", i.real_positives)\n",
    "    print(\"Empirical Risk of Bin: \", i.empirical_risk)\n",
    "\n",
    "print(instances_count)\n",
    "\n",
    "student_prediction_list.sort(key=lambda x: x[\"probability\"])\n",
    "\n",
    "# for student in student_prediction_list:\n",
    "#     print(student[\"student\"])\n",
    "#     print(student[\"probability\"])\n",
    "#     print(\"======\")\n",
    "#"
   ],
   "metadata": {
    "collapsed": false,
    "pycharm": {
     "name": "#%%\n"
    }
   }
  },
  {
   "cell_type": "code",
   "execution_count": 57,
   "outputs": [
    {
     "name": "stdout",
     "output_type": "stream",
     "text": [
      "[0.14285714285714285, 0.0, 0.75, 1.0]\n"
     ]
    },
    {
     "data": {
      "text/plain": "<Figure size 252x155.748 with 1 Axes>",
      "image/png": "[encoded data removed]"
     },
     "metadata": {
      "needs_background": "light"
     },
     "output_type": "display_data"
    }
   ],
   "source": [
    "# Graphing mean empirical risk\n",
    "\n",
    "y_values = [] # mean empirical risk of each bin\n",
    "x_values = []\n",
    "for i in bins:\n",
    "    y_values.append(i.empirical_risk)\n",
    "    x_values.append(i.upper_range)\n",
    "\n",
    "print(y_values)\n",
    "\n",
    "x_values = [0.25, 0.5, 0.75, 1]\n",
    "y_values = [0, 0.222, 0.85714, 0]\n",
    "# AdaBoost\n",
    "\n",
    "# plt.pyplot.figure(figsize=(10,5))\n",
    "\n",
    "ax = sns.lineplot(x=x_values, y=y_values)\n",
    "ax.set_xlabel(\"Upper Percentiles of Bins\")\n",
    "ax.set_ylabel(\"Mean Empirical Risk\")\n",
    "ax.set_xticks([0.25, 0.5, 0.75, 1])\n",
    "\n",
    "# Random Forest\n",
    "y_values = [0.14, 0, 0.75, 1]\n",
    "sns.lineplot(x=x_values, y=y_values)\n",
    "\n",
    "# Linear Regression\n",
    "y_values = [0.166, 0.5, 0.67, 1]\n",
    "sns.lineplot(x=x_values, y=y_values)\n",
    "\n",
    "fig = ax.get_figure()\n",
    "\n",
    "width  = 3.5\n",
    "height = width / 1.618\n",
    "fig.subplots_adjust(left=.20, bottom=.24, right=.99, top=.97)\n",
    "fig.set_size_inches(width, height)\n",
    "fig.savefig('myimage.png')"
   ],
   "metadata": {
    "collapsed": false,
    "pycharm": {
     "name": "#%%\n"
    }
   }
  }
 ],
 "metadata": {
  "kernelspec": {
   "name": "python3",
   "language": "python",
   "display_name": "Python 3"
  },
  "language_info": {
   "codemirror_mode": {
    "name": "ipython",
    "version": 2
   },
   "file_extension": ".py",
   "mimetype": "text/x-python",
   "name": "python",
   "nbconvert_exporter": "python",
   "pygments_lexer": "ipython2",
   "version": "2.7.6"
  }
 },
 "nbformat": 4,
 "nbformat_minor": 0
}