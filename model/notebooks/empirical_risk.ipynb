{
 "cells": [
  {
   "cell_type": "code",
   "execution_count": 13,
   "metadata": {
    "collapsed": true
   },
   "outputs": [
    {
     "name": "stdout",
     "output_type": "stream",
     "text": [
      "<class 'pandas.core.frame.DataFrame'>\n",
      "Scoring used:  recall\n",
      "Best parameters:  {}\n",
      "Best/Mean score using best parameters:  0.4\n",
      "[[12  2]\n",
      " [ 2  8]]\n",
      "Percentage:  0.8333333333333334\n",
      "24\n",
      "done\n"
     ]
    }
   ],
   "source": [
    "import matplotlib.pyplot as plt\n",
    "import model.temporary.testing_k_folds as driver\n",
    "\n",
    "'''\n",
    "- i = get classification probabilities\n",
    "- determine the bins\n",
    "- determine students that fit within their\n",
    "respective bins\n",
    "- determine those who are TP and FP\n",
    "  (probably determined beforehand somehow)\n",
    "- loop through student list, summing\n",
    "  all the empirical risks and then getting\n",
    "  the mean\n",
    "- Plot\n",
    "\n",
    "- The empirical risk curve will most likely\n",
    "  not resemble the paper, so there might\n",
    "  need to be changes.\n",
    "'''\n",
    "\n",
    "model_pipeline, X_test, y_test = driver.get_model_pipeline()\n",
    "print('done')"
   ]
  },
  {
   "cell_type": "code",
   "execution_count": 42,
   "outputs": [],
   "source": [
    "class Bin:\n",
    "    total_instances = 0\n",
    "    true_positives = 0\n",
    "    upper_range = 0\n",
    "    lower_range = 0\n",
    "\n",
    "    def __init__(self, index, number_of_bins):\n",
    "        ranges = 1 / number_of_bins\n",
    "        print(index)\n",
    "        self.upper_range = (index+1) * ranges\n",
    "        self.lower_range = self.upper_range - ranges\n",
    "\n",
    "    def add_student(self, is_true_positive):\n",
    "        self.total_instances += 1\n",
    "\n",
    "        if is_true_positive:\n",
    "            self.true_positives += 1"
   ],
   "metadata": {
    "collapsed": false,
    "pycharm": {
     "name": "#%%\n"
    }
   }
  },
  {
   "cell_type": "markdown",
   "source": [
    "Each bin object in the bins array will hold information regarding the\n",
    "distribution of students. More than that, it will hold information regarding\n",
    "the number of true positives out of the true positive and negatives."
   ],
   "metadata": {
    "collapsed": false
   }
  },
  {
   "cell_type": "code",
   "source": [
    "predictions = []\n",
    "number_of_bins = 5\n",
    "bins = [Bin(x, number_of_bins)for x in range(0,number_of_bins)]\n",
    "\n",
    "for i in bins:\n",
    "    print(i.lower_range)\n",
    "\n",
    "def addToBin(binArray, probability, true_positive):\n",
    "    # takes O(n) but shouldn't matter with such a small dataset\n",
    "    # can use another search method, but this will do for now\n",
    "    # if need be, I can use another method of doing so\n",
    "\n",
    "    if probability > 1 or probability < 0:\n",
    "        raise ValueError(\"Probability must be in range (0, 1)\")\n",
    "    \n",
    "    for k in binArray:\n",
    "        if probability > k.lower_range:\n",
    "            k.add_student(true_positive)\n",
    "            return\n",
    "\n",
    "    raise RuntimeError(\"Could not find bin for a student. Bin array was \\\n",
    "                       initialized wrongly\")\n"
   ],
   "metadata": {
    "collapsed": false,
    "pycharm": {
     "name": "#%%\n"
    }
   },
   "execution_count": 44,
   "outputs": [
    {
     "name": "stdout",
     "output_type": "stream",
     "text": [
      "0\n",
      "1\n",
      "2\n",
      "3\n",
      "4\n",
      "0.0\n",
      "0.2\n",
      "0.4000000000000001\n",
      "0.6000000000000001\n",
      "0.8\n"
     ]
    }
   ]
  },
  {
   "cell_type": "code",
   "execution_count": 17,
   "outputs": [
    {
     "name": "stdout",
     "output_type": "stream",
     "text": [
      "[<__main__.Bin object at 0x000001EFB256D288>, <__main__.Bin object at 0x000001EFB256DE88>, <__main__.Bin object at 0x000001EFB1AB1FC8>, <__main__.Bin object at 0x000001EFB2591F08>]\n"
     ]
    }
   ],
   "source": [
    "from sklearn.metrics import confusion_matrix\n",
    "\n",
    "print(type(X_test))\n",
    "print(X_test.index)\n",
    "print(X_test.iloc[1])\n",
    "print(type(X_test.iloc[2]))\n",
    "\n",
    "print(X_test.shape)\n",
    "model_pipeline.predict(X_test.iloc[2].values.reshape(1,-1))\n",
    "\n",
    "\n",
    "\n",
    "for i in range(X_test.shape[0]):\n",
    "    pred = model_pipeline.predict(X_test.iloc[i].values.reshape(1,-1))\n",
    "    predictions.append(pred)\n",
    "\n",
    "matrix = confusion_matrix(y_test, predictions)\n",
    "print(matrix)\n",
    "\n"
   ],
   "metadata": {
    "collapsed": false,
    "pycharm": {
     "name": "#%%\n"
    }
   }
  }
 ],
 "metadata": {
  "kernelspec": {
   "name": "python3",
   "language": "python",
   "display_name": "Python 3"
  },
  "language_info": {
   "codemirror_mode": {
    "name": "ipython",
    "version": 2
   },
   "file_extension": ".py",
   "mimetype": "text/x-python",
   "name": "python",
   "nbconvert_exporter": "python",
   "pygments_lexer": "ipython2",
   "version": "2.7.6"
  }
 },
 "nbformat": 4,
 "nbformat_minor": 0
}