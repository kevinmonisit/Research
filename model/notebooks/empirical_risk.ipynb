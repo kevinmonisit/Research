{
 "cells": [
  {
   "cell_type": "code",
   "execution_count": 11,
   "metadata": {
    "collapsed": true
   },
   "outputs": [
    {
     "name": "stdout",
     "output_type": "stream",
     "text": [
      "hello\n"
     ]
    },
    {
     "data": {
      "text/plain": "[]"
     },
     "execution_count": 11,
     "metadata": {},
     "output_type": "execute_result"
    },
    {
     "data": {
      "text/plain": "<Figure size 432x288 with 1 Axes>",
      "image/png": "[encoded data removed]"
     },
     "metadata": {
      "needs_background": "light"
     },
     "output_type": "display_data"
    }
   ],
   "source": [
    "import matplotlib.pyplot as plt\n",
    "print(\"hello\")\n",
    "\n",
    "\n",
    "'''\n",
    "- i = get classification probabilities\n",
    "- determine the bins\n",
    "- determine students that fit within their\n",
    "respective bins\n",
    "- determine those who are TP and FP\n",
    "  (probably determined beforehand somehow)\n",
    "- loop through student list, summing\n",
    "  all the empirical risks and then getting\n",
    "  the mean\n",
    "- Plot\n",
    "\n",
    "- The empirical risk curve will most likely\n",
    "  not resemble the paper, so there might\n",
    "  need to be changes.\n",
    "'''\n",
    "\n",
    "i = [0.68, 0.68, 0.09, 0.0, 0.7384047619047618, 0.6191666666666668,\n",
    "     0.7100714285714286, 0.72, 0.64, 0.23, 0.99, 0.0, 0.0, 0.0,\n",
    "     0.5143333333333332, 0.0, 0.0, 0.96, 0.0, 0.0, 0.39, 0.0, 0.0, 0.0]\n",
    "\n",
    "plt.hist(i, bins=4)\n",
    "plt.xticks([0, 0.25, 0.5, 0.75, 1])\n",
    "plt.plot()\n"
   ]
  }
 ],
 "metadata": {
  "kernelspec": {
   "name": "python3",
   "language": "python",
   "display_name": "Python 3"
  },
  "language_info": {
   "codemirror_mode": {
    "name": "ipython",
    "version": 2
   },
   "file_extension": ".py",
   "mimetype": "text/x-python",
   "name": "python",
   "nbconvert_exporter": "python",
   "pygments_lexer": "ipython2",
   "version": "2.7.6"
  }
 },
 "nbformat": 4,
 "nbformat_minor": 0
}