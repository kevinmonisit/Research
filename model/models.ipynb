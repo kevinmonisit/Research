{
 "cells": [
  {
   "cell_type": "code",
   "execution_count": 22,
   "metadata": {
    "collapsed": true
   },
   "outputs": [
    {
     "name": "stdout",
     "output_type": "stream",
     "text": [
      "[nan nan nan nan]\n"
     ]
    },
    {
     "name": "stderr",
     "output_type": "stream",
     "text": [
      "<ipython-input-22-80d7cb55eec5>:42: SettingWithCopyWarning: \n",
      "A value is trying to be set on a copy of a slice from a DataFrame.\n",
      "Try using .loc[row_indexer,col_indexer] = value instead\n",
      "\n",
      "See the caveats in the documentation: https://pandas.pydata.org/pandas-docs/stable/user_guide/indexing.html#returning-a-view-versus-a-copy\n",
      "  df[j] = df[j].apply(convert_stat, self.new_value)\n",
      "/Users/Turtle/.conda/envs/2020 Research/lib/python3.8/site-packages/sklearn/model_selection/_validation.py:548: FitFailedWarning: Estimator fit failed. The score on this train-test partition for these parameters will be set to nan. Details: \n",
      "Traceback (most recent call last):\n",
      "  File \"/Users/Turtle/.conda/envs/2020 Research/lib/python3.8/site-packages/pandas/core/indexes/base.py\", line 2646, in get_loc\n",
      "    return self._engine.get_loc(key)\n",
      "  File \"pandas/_libs/index.pyx\", line 111, in pandas._libs.index.IndexEngine.get_loc\n",
      "  File \"pandas/_libs/index.pyx\", line 138, in pandas._libs.index.IndexEngine.get_loc\n",
      "  File \"pandas/_libs/hashtable_class_helper.pxi\", line 1619, in pandas._libs.hashtable.PyObjectHashTable.get_item\n",
      "  File \"pandas/_libs/hashtable_class_helper.pxi\", line 1627, in pandas._libs.hashtable.PyObjectHashTable.get_item\n",
      "KeyError: 'A10'\n",
      "\n",
      "During handling of the above exception, another exception occurred:\n",
      "\n",
      "Traceback (most recent call last):\n",
      "  File \"/Users/Turtle/.conda/envs/2020 Research/lib/python3.8/site-packages/sklearn/model_selection/_validation.py\", line 531, in _fit_and_score\n",
      "    estimator.fit(X_train, y_train, **fit_params)\n",
      "  File \"/Users/Turtle/.conda/envs/2020 Research/lib/python3.8/site-packages/sklearn/pipeline.py\", line 330, in fit\n",
      "    Xt = self._fit(X, y, **fit_params_steps)\n",
      "  File \"/Users/Turtle/.conda/envs/2020 Research/lib/python3.8/site-packages/sklearn/pipeline.py\", line 292, in _fit\n",
      "    X, fitted_transformer = fit_transform_one_cached(\n",
      "  File \"/Users/Turtle/.conda/envs/2020 Research/lib/python3.8/site-packages/joblib/memory.py\", line 352, in __call__\n",
      "    return self.func(*args, **kwargs)\n",
      "  File \"/Users/Turtle/.conda/envs/2020 Research/lib/python3.8/site-packages/sklearn/pipeline.py\", line 742, in _fit_transform_one\n",
      "    res = transformer.fit(X, y, **fit_params).transform(X)\n",
      "  File \"<ipython-input-22-80d7cb55eec5>\", line 42, in transform\n",
      "    df[j] = df[j].apply(convert_stat, self.new_value)\n",
      "  File \"/Users/Turtle/.conda/envs/2020 Research/lib/python3.8/site-packages/pandas/core/frame.py\", line 2800, in __getitem__\n",
      "    indexer = self.columns.get_loc(key)\n",
      "  File \"/Users/Turtle/.conda/envs/2020 Research/lib/python3.8/site-packages/pandas/core/indexes/base.py\", line 2648, in get_loc\n",
      "    return self._engine.get_loc(self._maybe_cast_indexer(key))\n",
      "  File \"pandas/_libs/index.pyx\", line 111, in pandas._libs.index.IndexEngine.get_loc\n",
      "  File \"pandas/_libs/index.pyx\", line 138, in pandas._libs.index.IndexEngine.get_loc\n",
      "  File \"pandas/_libs/hashtable_class_helper.pxi\", line 1619, in pandas._libs.hashtable.PyObjectHashTable.get_item\n",
      "  File \"pandas/_libs/hashtable_class_helper.pxi\", line 1627, in pandas._libs.hashtable.PyObjectHashTable.get_item\n",
      "KeyError: 'A10'\n",
      "\n",
      "  warnings.warn(\"Estimator fit failed. The score on this train-test\"\n"
     ]
    }
   ],
   "source": [
    "import pandas as pd\n",
    "from sklearn.base import BaseEstimator\n",
    "from sklearn.pipeline import Pipeline\n",
    "\n",
    "from sklearn.compose import ColumnTransformer\n",
    "from sklearn.preprocessing import  LabelEncoder\n",
    "from sklearn.tree import DecisionTreeRegressor\n",
    "\n",
    "\n",
    "# easy way of accessing A_6, A_7, ... A_N columns\n",
    "def column_list(letter, start, end):\n",
    "    return [\"%s%d\" % (letter, i) for i in range(start, end)]\n",
    "\n",
    "\n",
    "# convert strings to int type even if it's a float\n",
    "# replace by median or mean?\n",
    "def convert_stat(x, new_value=0):\n",
    "    if not isinstance(x, int):\n",
    "\n",
    "        if not isinstance(x, float) and '.' not in x:\n",
    "            return new_value if x == \"TRANSFER\" else int(x)\n",
    "        else:\n",
    "            return new_value if x == \"TRANSFER\" else int(float(x))\n",
    "\n",
    "    else:\n",
    "        return x\n",
    "\n",
    "\n",
    "class SumTransformer(BaseEstimator):\n",
    "\n",
    "    # set new_value to None if Pipeline contains SimpleImputer\n",
    "    # this is for absences and tardies\n",
    "    def __init__(self, new_value=0):\n",
    "        self.new_value = new_value\n",
    "\n",
    "    def fit(self, x, y=None):\n",
    "        return self\n",
    "\n",
    "    def transform(self, df):\n",
    "        for i in [\"A\", \"T\"]:\n",
    "            for j in column_list(i, 6, 13):\n",
    "                df[j] = df[j].apply(convert_stat, self.new_value)\n",
    "\n",
    "        df['AbsentSum'] = df[column_list('A', 6, 13)].sum(axis=1)\n",
    "        df['TardySum'] = df[column_list('T', 6, 13)].sum(axis=1)\n",
    "\n",
    "        # for different time periods\n",
    "        df['AbsencesSum_MS'] = df[column_list('A', 6, 9)].sum(axis=1)\n",
    "        df['AbsencesSum_HS'] = df[column_list('A', 9, 13)].sum(axis=1)\n",
    "\n",
    "        df['TardiesSum_MS'] = df[column_list('T', 6, 9)].sum(axis=1)\n",
    "        df['TardiesSum_HS'] = df[column_list('T', 9, 13)].sum(axis=1)\n",
    "\n",
    "        return df\n",
    "\n",
    "\n",
    "pre_process = ColumnTransformer(remainder='passthrough',\n",
    "                                transformers=[('categories', LabelEncoder(), [\"Gender\", \"IEP/Specialized\"])])\n",
    "\n",
    "model_pipeline = Pipeline(steps=[('number_fix', SumTransformer()),\n",
    "                                 ('pre_process', pre_process),\n",
    "                                 ('Decision Tree', DecisionTreeRegressor(max_leaf_nodes=12))\n",
    "                                 ])\n",
    "\n",
    "from sklearn.model_selection import train_test_split, cross_val_score\n",
    "features = [\"A6\", \"A7\", \"A8\", \"A9\", \"Gender\", \"IEP/Specialized\"]\n",
    "student_data = pd.read_csv(\"../data/High School East Student Data - Sheet1.csv\")\n",
    "student_data[\"AbsencesSum_HS\"] = 0\n",
    "\n",
    "scores = -1 * cross_val_score(model_pipeline,\n",
    "            student_data[features],\n",
    "            student_data[\"AbsencesSum_HS\"],\n",
    "            cv=4,\n",
    "            scoring=\"neg_mean_absolute_error\")\n",
    "\n",
    "print(scores)\n"
   ]
  },
  {
   "cell_type": "code",
   "execution_count": 18,
   "outputs": [
    {
     "name": "stdout",
     "output_type": "stream",
     "text": [
      "> \u001B[0;32m/Users/Turtle/PycharmProjects/2020 Research/model/pandas/_libs/hashtable_class_helper.pxi\u001B[0m(1627)\u001B[0;36mpandas._libs.hashtable.PyObjectHashTable.get_item\u001B[0;34m()\u001B[0m\n",
      "\n"
     ]
    }
   ],
   "source": [],
   "metadata": {
    "collapsed": false,
    "pycharm": {
     "name": "#%%\n"
    }
   }
  }
 ],
 "metadata": {
  "kernelspec": {
   "name": "pycharm-911807b",
   "language": "python",
   "display_name": "PyCharm (2020 Research)"
  },
  "language_info": {
   "codemirror_mode": {
    "name": "ipython",
    "version": 2
   },
   "file_extension": ".py",
   "mimetype": "text/x-python",
   "name": "python",
   "nbconvert_exporter": "python",
   "pygments_lexer": "ipython2",
   "version": "2.7.6"
  }
 },
 "nbformat": 4,
 "nbformat_minor": 0
}