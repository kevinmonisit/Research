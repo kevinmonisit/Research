{
 "cells": [
  {
   "cell_type": "code",
   "execution_count": 2,
   "metadata": {
    "collapsed": true
   },
   "outputs": [],
   "source": [
    "import pandas as pd\n",
    "from sklearn.base import BaseEstimator\n",
    "from sklearn.pipeline import Pipeline\n",
    "from sklearn.model_selection import cross_val_score\n",
    "from sklearn.compose import ColumnTransformer\n",
    "from sklearn.preprocessing import LabelEncoder, OneHotEncoder\n",
    "from sklearn.tree import DecisionTreeRegressor\n",
    "pd.options.mode.chained_assignment = None  # default='warn'\n",
    "\n",
    "\n",
    "# easy way of accessing A_6, A_7, ... A_N columns\n",
    "def column_list(letter, start, end):\n",
    "    return [\"%s%d\" % (letter, i) for i in range(start, end)]\n",
    "\n",
    "\n",
    "def remove_outliers(column, target, first, second):\n",
    "    non_outliers = target.between(target.quantile(first), target.quantile(second))\n",
    "\n",
    "    for index in range(0, len(column)):\n",
    "        if ~non_outliers[index]:\n",
    "            column.drop(index, inplace=True)\n",
    "\n",
    "\n",
    "# convert strings to int type even if it's a float\n",
    "# replace by median or mean?\n",
    "def convert_stat(x, new_value=0):\n",
    "    if not isinstance(x, int):\n",
    "\n",
    "        if not isinstance(x, float) and '.' not in x:\n",
    "            return new_value if x == \"TRANSFER\" else int(x)\n",
    "        else:\n",
    "            return new_value if x == \"TRANSFER\" else int(float(x))\n",
    "\n",
    "    else:\n",
    "        return x\n",
    "\n",
    "\n",
    "class SumTransformer(BaseEstimator):\n",
    "\n",
    "    # set new_value to None if Pipeline contains SimpleImputer\n",
    "    # this is for absences and tardies since somet students are\n",
    "    # transfer students. The placeholder in the CSV is the string \"TRANSFER\"\n",
    "    def __init__(self, new_value=0):\n",
    "        self.new_value = new_value\n",
    "\n",
    "    def fit(self, x, y=None):\n",
    "        return self\n",
    "\n",
    "    def transform(self, df):\n",
    "        # change to for i in [\"A\", \"T\"] to include tardies if need be\n",
    "        for i in [\"A\"]:\n",
    "\n",
    "            # corrects the values in the data frame that will be used in the training models\n",
    "            for j in column_list(i, 6, 9):\n",
    "                df[j] = df[j].apply(convert_stat, self.new_value)\n",
    "\n",
    "        return df\n"
   ]
  },
  {
   "cell_type": "markdown",
   "source": [
    "After setting up the functions needed for pre-processing, I set up the data. There are necessary pre-processing\n",
    "*before* the actual pre-processing. Because some numerical columns contain string types, it is necessary\n",
    "to convert them. Also, outliers are determined before the split (or pipeline), and removed."
   ],
   "metadata": {
    "collapsed": false,
    "pycharm": {
     "name": "#%% md\n"
    }
   }
  },
  {
   "cell_type": "code",
   "execution_count": 6,
   "metadata": {
    "pycharm": {
     "name": "#%%\n"
    }
   },
   "outputs": [
    {
     "name": "stdout",
     "output_type": "stream",
     "text": [
      "[21.53846154 17.         12.92307692 17.12820513 22.08333333]\n",
      "<class 'numpy.ndarray'>\n"
     ]
    }
   ],
   "source": [
    "student_data = pd.read_csv(\"../data/High School East Student Data - Sheet1.csv\")\n",
    "features = [\"A6\", \"A7\", \"A8\", \"Gender\", \"IEP/Specialized\"]\n",
    "student_data[\"AbsencesSum_HS\"] = 0\n",
    "\n",
    "# Pipeline doesn't allow transformations on the target label\n",
    "# so I have to do transformations outside of Pipeline in order\n",
    "# to sum all absences in High School for each student.\n",
    "for j in column_list(\"A\", 9, 13):\n",
    "    student_data[j] = student_data[j].apply(convert_stat)\n",
    "\n",
    "student_data[\"AbsencesSum_HS\"] = student_data[column_list('A', 9, 13)].sum(axis=1)\n",
    "\n",
    "# because we've created the total absences in high school column\n",
    "# we are now able to eliminate outliers in the dataset.\n",
    "remove_outliers(student_data, student_data[\"AbsencesSum_HS\"], 0, 0.95)"
   ]
  },
  {
   "cell_type": "markdown",
   "source": [
    "The first model I will test is the Decision Tree Regressor."
   ],
   "metadata": {
    "collapsed": false,
    "pycharm": {
     "name": "#%% md\n"
    }
   }
  },
  {
   "cell_type": "code",
   "execution_count": 9,
   "outputs": [
    {
     "name": "stdout",
     "output_type": "stream",
     "text": [
      "18.134615384615383\n"
     ]
    }
   ],
   "source": [
    "pre_process = ColumnTransformer(remainder='passthrough',\n",
    "                                transformers=[('categories', OneHotEncoder(), [\"Gender\", \"IEP/Specialized\"])])\n",
    "\n",
    "model_pipeline = Pipeline(steps=[('number_fix', SumTransformer()),\n",
    "                                 ('pre_process', pre_process),\n",
    "                                 ('Decision Tree', DecisionTreeRegressor(random_state=1))\n",
    "                                 ])\n",
    "\n",
    "scores = -1 * cross_val_score(model_pipeline,\n",
    "                              student_data[features],\n",
    "                              student_data[\"AbsencesSum_HS\"],\n",
    "                              cv=5,\n",
    "                              scoring='neg_mean_absolute_error')\n",
    "\n",
    "print(np.mean(scores))"
   ],
   "metadata": {
    "collapsed": false,
    "pycharm": {
     "name": "#%%\n"
    }
   }
  },
  {
   "cell_type": "markdown",
   "source": [
    "\n"
   ],
   "metadata": {
    "collapsed": false
   }
  }
 ],
 "metadata": {
  "kernelspec": {
   "display_name": "PyCharm (2020 Research)",
   "language": "python",
   "name": "pycharm-911807b"
  },
  "language_info": {
   "codemirror_mode": {
    "name": "ipython",
    "version": 3
   },
   "file_extension": ".py",
   "mimetype": "text/x-python",
   "name": "python",
   "nbconvert_exporter": "python",
   "pygments_lexer": "ipython3",
   "version": "3.8.3"
  }
 },
 "nbformat": 4,
 "nbformat_minor": 1
}